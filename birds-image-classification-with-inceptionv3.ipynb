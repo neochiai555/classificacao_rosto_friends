{
  "metadata": {
    "kernelspec": {
      "language": "python",
      "display_name": "Python 3",
      "name": "python3"
    },
    "language_info": {
      "pygments_lexer": "ipython3",
      "nbconvert_exporter": "python",
      "version": "3.6.4",
      "file_extension": ".py",
      "codemirror_mode": {
        "name": "ipython",
        "version": 3
      },
      "name": "python",
      "mimetype": "text/x-python"
    },
    "kaggle": {
      "accelerator": "none",
      "dataSources": [
        {
          "sourceId": 2509361,
          "sourceType": "datasetVersion",
          "datasetId": 534640
        }
      ],
      "dockerImageVersionId": 30120,
      "isInternetEnabled": false,
      "language": "python",
      "sourceType": "notebook",
      "isGpuEnabled": false
    },
    "colab": {
      "provenance": []
    }
  },
  "nbformat_minor": 0,
  "nbformat": 4,
  "cells": [
    {
      "cell_type": "markdown",
      "source": [
        "# Birds Image Classification with InceptionV3"
      ],
      "metadata": {
        "id": "4KN2VQkHk0sl"
      }
    },
    {
      "cell_type": "markdown",
      "source": [
        "This notebook consists of the following topics:\n",
        "* About InceptionV3\n",
        "* About Dataset\n",
        "* Import Libraries\n",
        "* Loading Data\n",
        "* Visualization\n",
        "* Data Processing\n",
        "* Data Augmentation\n",
        "* InceptionV3 Model\n",
        "* Compiling the Model\n",
        "* Fitting\n",
        "* Evaluating the Model"
      ],
      "metadata": {
        "id": "DYfBHD2rk0sn"
      }
    },
    {
      "cell_type": "markdown",
      "source": [
        "## About InceptionV3"
      ],
      "metadata": {
        "id": "Fqn4skFjk0sn"
      }
    },
    {
      "cell_type": "markdown",
      "source": [
        "InceptionV3 is a convolutional neural network for assisting in image analysis and object detection, and got its start as a module for Googlenet. It is the third edition of Google's Inception Convolutional Neural Network, originally introduced during the ImageNet Recognition Challenge. Just as ImageNet can be thought of as a database of classified visual objects, Inception helps classification of objects in the world of computer vision."
      ],
      "metadata": {
        "id": "JxxYPUW7k0so"
      }
    },
    {
      "cell_type": "markdown",
      "source": [
        "![](http://paperswithcode.com/media/methods/inceptionv3onc--oview_vjAbOfw.png![image.png](attachment:b909ba6d-0ceb-4c56-8b7d-43ccbecbce19.png)![image.png](attachment:7ef18d29-4a33-4384-8649-21bbfb15176c.png)![image.png](attachment:23823979-57e0-4392-943d-929cffd13758.png))"
      ],
      "metadata": {
        "id": "vbIxk2VVk0so"
      }
    },
    {
      "cell_type": "markdown",
      "source": [
        "## About Dataset"
      ],
      "metadata": {
        "id": "VTpB72uLk0so"
      }
    },
    {
      "cell_type": "markdown",
      "source": [
        "The data set consists of 40930 training images, 1425 test images, 1425 validation images and 125 different classes. Images are in 224x224x3 format."
      ],
      "metadata": {
        "id": "uVxd-e9Vk0so"
      }
    },
    {
      "cell_type": "markdown",
      "source": [
        "## Import Libraries"
      ],
      "metadata": {
        "id": "l2JnMUITk0sp"
      }
    },
    {
      "cell_type": "code",
      "source": [
        "import numpy as np\n",
        "import pandas as pd\n",
        "import matplotlib.pyplot as plt\n",
        "import seaborn as sns\n",
        "import tensorflow as tf\n",
        "import keras\n",
        "from keras.models import Sequential\n",
        "from keras.preprocessing.image import  load_img, img_to_array\n",
        "from keras.layers import Dense, Flatten, BatchNormalization, Dropout\n",
        "from keras.applications import InceptionV3\n",
        "from glob import glob"
      ],
      "metadata": {
        "execution": {
          "iopub.status.busy": "2021-08-14T18:40:43.657921Z",
          "iopub.execute_input": "2021-08-14T18:40:43.658442Z",
          "iopub.status.idle": "2021-08-14T18:40:50.514218Z",
          "shell.execute_reply.started": "2021-08-14T18:40:43.658341Z",
          "shell.execute_reply": "2021-08-14T18:40:50.513276Z"
        },
        "trusted": true,
        "id": "d_jz8OoCk0sp"
      },
      "outputs": [],
      "execution_count": 2
    },
    {
      "cell_type": "code",
      "source": [
        "!rm -rf friendsimages/\n",
        "!wget -O friendsimages.tar 'https://drive.google.com/uc?export=download&id=1b-0DQwxVT30S-Ma51YF7QM2orwspF8qS'\n",
        "!tar -xvf friendsimages.tar\n",
        "!ls friendsimages/"
      ],
      "metadata": {
        "id": "-Hvq65ylnXJK",
        "colab": {
          "base_uri": "https://localhost:8080/"
        },
        "outputId": "64ad6189-edc8-433b-c067-936f68dc2dc5"
      },
      "execution_count": 5,
      "outputs": [
        {
          "output_type": "stream",
          "name": "stdout",
          "text": [
            "--2025-01-02 15:48:52--  https://drive.google.com/uc?export=download&id=1b-0DQwxVT30S-Ma51YF7QM2orwspF8qS\n",
            "Resolving drive.google.com (drive.google.com)... 142.250.157.101, 142.250.157.113, 142.250.157.138, ...\n",
            "Connecting to drive.google.com (drive.google.com)|142.250.157.101|:443... connected.\n",
            "HTTP request sent, awaiting response... 303 See Other\n",
            "Location: https://drive.usercontent.google.com/download?id=1b-0DQwxVT30S-Ma51YF7QM2orwspF8qS&export=download [following]\n",
            "--2025-01-02 15:48:53--  https://drive.usercontent.google.com/download?id=1b-0DQwxVT30S-Ma51YF7QM2orwspF8qS&export=download\n",
            "Resolving drive.usercontent.google.com (drive.usercontent.google.com)... 142.250.157.132, 2404:6800:4008:c13::84\n",
            "Connecting to drive.usercontent.google.com (drive.usercontent.google.com)|142.250.157.132|:443... connected.\n",
            "HTTP request sent, awaiting response... 200 OK\n",
            "Length: 38434304 (37M) [application/octet-stream]\n",
            "Saving to: ‘friendsimages.tar’\n",
            "\n",
            "friendsimages.tar   100%[===================>]  36.65M  42.0MB/s    in 0.9s    \n",
            "\n",
            "2025-01-02 15:48:58 (42.0 MB/s) - ‘friendsimages.tar’ saved [38434304/38434304]\n",
            "\n",
            "friendsimages/\n",
            "friendsimages/test/\n",
            "friendsimages/test/Chandler/\n",
            "friendsimages/test/Chandler/chandler (46).jpg\n",
            "friendsimages/test/Chandler/chandler (47).png\n",
            "friendsimages/test/Chandler/chandler (48).png\n",
            "friendsimages/test/Chandler/chandler (49).png\n",
            "friendsimages/test/Chandler/chandler (50).png\n",
            "friendsimages/test/Joey/\n",
            "friendsimages/test/Joey/joey (45).jpg\n",
            "friendsimages/test/Joey/joey (46).jpg\n",
            "friendsimages/test/Joey/joey (47).jpg\n",
            "friendsimages/test/Joey/joey (48).jpg\n",
            "friendsimages/test/Joey/joey (49).png\n",
            "friendsimages/test/Monica/\n",
            "friendsimages/test/Monica/monica (47).png\n",
            "friendsimages/test/Monica/monica (48).png\n",
            "friendsimages/test/Monica/monica (49).png\n",
            "friendsimages/test/Monica/monica (50).png\n",
            "friendsimages/test/Phoebe/\n",
            "friendsimages/test/Phoebe/phoebe (47).jpg\n",
            "friendsimages/test/Phoebe/phoebe (48).jpeg\n",
            "friendsimages/test/Phoebe/phoebe (49).jpg\n",
            "friendsimages/test/Phoebe/phoebe (50).jpeg\n",
            "friendsimages/test/Rachel/\n",
            "friendsimages/test/Rachel/rachel (46).jpg\n",
            "friendsimages/test/Rachel/rachel (47).jpg\n",
            "friendsimages/test/Rachel/rachel (48).jpg\n",
            "friendsimages/test/Rachel/rachel (49).png\n",
            "friendsimages/test/Rachel/rachel (50).png\n",
            "friendsimages/test/Ross/\n",
            "friendsimages/test/Ross/ross (45).jpg\n",
            "friendsimages/test/Ross/ross (46).jpg\n",
            "friendsimages/test/Ross/ross (47).jpg\n",
            "friendsimages/test/Ross/ross (48).png\n",
            "friendsimages/test/Ross/ross (50).png\n",
            "friendsimages/train/\n",
            "friendsimages/train/Chandler/\n",
            "friendsimages/train/Chandler/chandler (1).jpeg\n",
            "friendsimages/train/Chandler/chandler (10).jpg\n",
            "friendsimages/train/Chandler/chandler (11).jpg\n",
            "friendsimages/train/Chandler/chandler (12).jpg\n",
            "friendsimages/train/Chandler/chandler (13).jpg\n",
            "friendsimages/train/Chandler/chandler (14).jpg\n",
            "friendsimages/train/Chandler/chandler (15).jpg\n",
            "friendsimages/train/Chandler/chandler (16).jpg\n",
            "friendsimages/train/Chandler/chandler (17).jpg\n",
            "friendsimages/train/Chandler/chandler (18).jpg\n",
            "friendsimages/train/Chandler/chandler (19).jpg\n",
            "friendsimages/train/Chandler/chandler (2).jpg\n",
            "friendsimages/train/Chandler/chandler (20).jpg\n",
            "friendsimages/train/Chandler/chandler (21).jpg\n",
            "friendsimages/train/Chandler/chandler (22).jpg\n",
            "friendsimages/train/Chandler/chandler (23).jpg\n",
            "friendsimages/train/Chandler/chandler (24).jpg\n",
            "friendsimages/train/Chandler/chandler (25).jpg\n",
            "friendsimages/train/Chandler/chandler (26).jpg\n",
            "friendsimages/train/Chandler/chandler (27).jpg\n",
            "friendsimages/train/Chandler/chandler (28).jpg\n",
            "friendsimages/train/Chandler/chandler (29).jpg\n",
            "friendsimages/train/Chandler/chandler (3).jpg\n",
            "friendsimages/train/Chandler/chandler (30).jpg\n",
            "friendsimages/train/Chandler/chandler (31).jpg\n",
            "friendsimages/train/Chandler/chandler (32).jpg\n",
            "friendsimages/train/Chandler/chandler (33).jpg\n",
            "friendsimages/train/Chandler/chandler (34).jpg\n",
            "friendsimages/train/Chandler/chandler (35).jpg\n",
            "friendsimages/train/Chandler/chandler (36).jpg\n",
            "friendsimages/train/Chandler/chandler (37).jpg\n",
            "friendsimages/train/Chandler/chandler (38).jpg\n",
            "friendsimages/train/Chandler/chandler (39).jpg\n",
            "friendsimages/train/Chandler/chandler (4).jpg\n",
            "friendsimages/train/Chandler/chandler (40).jpg\n",
            "friendsimages/train/Chandler/chandler (5).jpg\n",
            "friendsimages/train/Chandler/chandler (6).jpg\n",
            "friendsimages/train/Chandler/chandler (7).jpg\n",
            "friendsimages/train/Chandler/chandler (8).jpg\n",
            "friendsimages/train/Chandler/chandler (9).jpg\n",
            "friendsimages/train/Joey/\n",
            "friendsimages/train/Joey/joey (1).jpeg\n",
            "friendsimages/train/Joey/joey (10).jpg\n",
            "friendsimages/train/Joey/joey (11).jpg\n",
            "friendsimages/train/Joey/joey (12).jpg\n",
            "friendsimages/train/Joey/joey (13).jpg\n",
            "friendsimages/train/Joey/joey (14).jpg\n",
            "friendsimages/train/Joey/joey (15).jpg\n",
            "friendsimages/train/Joey/joey (16).jpg\n",
            "friendsimages/train/Joey/joey (17).jpg\n",
            "friendsimages/train/Joey/joey (18).jpg\n",
            "friendsimages/train/Joey/joey (19).jpg\n",
            "friendsimages/train/Joey/joey (2).jpg\n",
            "friendsimages/train/Joey/joey (2).png\n",
            "friendsimages/train/Joey/joey (20).jpg\n",
            "friendsimages/train/Joey/joey (21).jpg\n",
            "friendsimages/train/Joey/joey (22).jpg\n",
            "friendsimages/train/Joey/joey (23).jpg\n",
            "friendsimages/train/Joey/joey (24).jpg\n",
            "friendsimages/train/Joey/joey (25).jpg\n",
            "friendsimages/train/Joey/joey (26).jpg\n",
            "friendsimages/train/Joey/joey (27).jpg\n",
            "friendsimages/train/Joey/joey (28).jpg\n",
            "friendsimages/train/Joey/joey (29).jpg\n",
            "friendsimages/train/Joey/joey (3).jpg\n",
            "friendsimages/train/Joey/joey (30).jpg\n",
            "friendsimages/train/Joey/joey (31).jpg\n",
            "friendsimages/train/Joey/joey (32).jpg\n",
            "friendsimages/train/Joey/joey (33).jpg\n",
            "friendsimages/train/Joey/joey (34).jpg\n",
            "friendsimages/train/Joey/joey (35).jpg\n",
            "friendsimages/train/Joey/joey (36).jpg\n",
            "friendsimages/train/Joey/joey (37).jpg\n",
            "friendsimages/train/Joey/joey (38).jpg\n",
            "friendsimages/train/Joey/joey (39).jpg\n",
            "friendsimages/train/Joey/joey (4).jpg\n",
            "friendsimages/train/Joey/joey (5).jpg\n",
            "friendsimages/train/Joey/joey (6).jpg\n",
            "friendsimages/train/Joey/joey (7).jpg\n",
            "friendsimages/train/Joey/joey (8).jpg\n",
            "friendsimages/train/Joey/joey (9).jpg\n",
            "friendsimages/train/Monica/\n",
            "friendsimages/train/Monica/monica (1).jpg\n",
            "friendsimages/train/Monica/monica (10).jpg\n",
            "friendsimages/train/Monica/monica (11).jpg\n",
            "friendsimages/train/Monica/monica (12).jpg\n",
            "friendsimages/train/Monica/monica (13).jpg\n",
            "friendsimages/train/Monica/monica (14).jpg\n",
            "friendsimages/train/Monica/monica (15).jpg\n",
            "friendsimages/train/Monica/monica (16).jpg\n",
            "friendsimages/train/Monica/monica (17).jpg\n",
            "friendsimages/train/Monica/monica (18).jpg\n",
            "friendsimages/train/Monica/monica (19).jpg\n",
            "friendsimages/train/Monica/monica (2).jpg\n",
            "friendsimages/train/Monica/monica (20).jpg\n",
            "friendsimages/train/Monica/monica (21).jpg\n",
            "friendsimages/train/Monica/monica (22).jpg\n",
            "friendsimages/train/Monica/monica (24).jpg\n",
            "friendsimages/train/Monica/monica (25).jpg\n",
            "friendsimages/train/Monica/monica (26).jpg\n",
            "friendsimages/train/Monica/monica (27).jpg\n",
            "friendsimages/train/Monica/monica (28).jpg\n",
            "friendsimages/train/Monica/monica (29).jpg\n",
            "friendsimages/train/Monica/monica (3).jpg\n",
            "friendsimages/train/Monica/monica (30).jpg\n",
            "friendsimages/train/Monica/monica (31).jpg\n",
            "friendsimages/train/Monica/monica (32).jpg\n",
            "friendsimages/train/Monica/monica (33).jpg\n",
            "friendsimages/train/Monica/monica (34).jpg\n",
            "friendsimages/train/Monica/monica (35).jpg\n",
            "friendsimages/train/Monica/monica (36).jpg\n",
            "friendsimages/train/Monica/monica (37).jpg\n",
            "friendsimages/train/Monica/monica (38).jpg\n",
            "friendsimages/train/Monica/monica (39).jpg\n",
            "friendsimages/train/Monica/monica (4).jpg\n",
            "friendsimages/train/Monica/monica (40).jpg\n",
            "friendsimages/train/Monica/monica (41).jpg\n",
            "friendsimages/train/Monica/monica (5).jpg\n",
            "friendsimages/train/Monica/monica (6).jpg\n",
            "friendsimages/train/Monica/monica (7).jpg\n",
            "friendsimages/train/Monica/monica (8).jpg\n",
            "friendsimages/train/Monica/monica (9).jpg\n",
            "friendsimages/train/Phoebe/\n",
            "friendsimages/train/Phoebe/phoebe (1).gif\n",
            "friendsimages/train/Phoebe/phoebe (10).jpg\n",
            "friendsimages/train/Phoebe/phoebe (11).jpg\n",
            "friendsimages/train/Phoebe/phoebe (12).jpg\n",
            "friendsimages/train/Phoebe/phoebe (13).jpg\n",
            "friendsimages/train/Phoebe/phoebe (14).jpg\n",
            "friendsimages/train/Phoebe/phoebe (15).jpg\n",
            "friendsimages/train/Phoebe/phoebe (16).jpg\n",
            "friendsimages/train/Phoebe/phoebe (17).jpg\n",
            "friendsimages/train/Phoebe/phoebe (18).jpg\n",
            "friendsimages/train/Phoebe/phoebe (19).jpg\n",
            "friendsimages/train/Phoebe/phoebe (2).jpg\n",
            "friendsimages/train/Phoebe/phoebe (20).jpg\n",
            "friendsimages/train/Phoebe/phoebe (21).jpg\n",
            "friendsimages/train/Phoebe/phoebe (22).jpg\n",
            "friendsimages/train/Phoebe/phoebe (23).jpg\n",
            "friendsimages/train/Phoebe/phoebe (24).jpg\n",
            "friendsimages/train/Phoebe/phoebe (25).jpg\n",
            "friendsimages/train/Phoebe/phoebe (26).jpg\n",
            "friendsimages/train/Phoebe/phoebe (27).jpg\n",
            "friendsimages/train/Phoebe/phoebe (28).jpg\n",
            "friendsimages/train/Phoebe/phoebe (3).jpg\n",
            "friendsimages/train/Phoebe/phoebe (30).jpg\n",
            "friendsimages/train/Phoebe/phoebe (31).jpg\n",
            "friendsimages/train/Phoebe/phoebe (32).jpg\n",
            "friendsimages/train/Phoebe/phoebe (33).jpg\n",
            "friendsimages/train/Phoebe/phoebe (34).jpg\n",
            "friendsimages/train/Phoebe/phoebe (35).jpg\n",
            "friendsimages/train/Phoebe/phoebe (36).jpg\n",
            "friendsimages/train/Phoebe/phoebe (37).jpg\n",
            "friendsimages/train/Phoebe/phoebe (38).jpg\n",
            "friendsimages/train/Phoebe/phoebe (39).jpg\n",
            "friendsimages/train/Phoebe/phoebe (4).jpg\n",
            "friendsimages/train/Phoebe/phoebe (40).jpg\n",
            "friendsimages/train/Phoebe/phoebe (41).jpg\n",
            "friendsimages/train/Phoebe/phoebe (5).jpg\n",
            "friendsimages/train/Phoebe/phoebe (6).jpg\n",
            "friendsimages/train/Phoebe/phoebe (7).jpg\n",
            "friendsimages/train/Phoebe/phoebe (8).jpg\n",
            "friendsimages/train/Phoebe/phoebe (9).jpg\n",
            "friendsimages/train/Rachel/\n",
            "friendsimages/train/Rachel/rachel (1).png\n",
            "friendsimages/train/Rachel/rachel (10).jpg\n",
            "friendsimages/train/Rachel/rachel (11).jpg\n",
            "friendsimages/train/Rachel/rachel (12).jpg\n",
            "friendsimages/train/Rachel/rachel (13).jpg\n",
            "friendsimages/train/Rachel/rachel (14).jpg\n",
            "friendsimages/train/Rachel/rachel (15).jpg\n",
            "friendsimages/train/Rachel/rachel (16).jpg\n",
            "friendsimages/train/Rachel/rachel (17).jpg\n",
            "friendsimages/train/Rachel/rachel (18).jpg\n",
            "friendsimages/train/Rachel/rachel (19).jpg\n",
            "friendsimages/train/Rachel/rachel (2).jpg\n",
            "friendsimages/train/Rachel/rachel (20).jpg\n",
            "friendsimages/train/Rachel/rachel (21).jpg\n",
            "friendsimages/train/Rachel/rachel (22).jpg\n",
            "friendsimages/train/Rachel/rachel (23).jpg\n",
            "friendsimages/train/Rachel/rachel (24).jpg\n",
            "friendsimages/train/Rachel/rachel (25).jpg\n",
            "friendsimages/train/Rachel/rachel (26).jpg\n",
            "friendsimages/train/Rachel/rachel (27).jpg\n",
            "friendsimages/train/Rachel/rachel (28).jpg\n",
            "friendsimages/train/Rachel/rachel (29).jpg\n",
            "friendsimages/train/Rachel/rachel (3).jpg\n",
            "friendsimages/train/Rachel/rachel (30).jpg\n",
            "friendsimages/train/Rachel/rachel (31).jpg\n",
            "friendsimages/train/Rachel/rachel (32).jpg\n",
            "friendsimages/train/Rachel/rachel (33).jpg\n",
            "friendsimages/train/Rachel/rachel (34).jpg\n",
            "friendsimages/train/Rachel/rachel (35).jpg\n",
            "friendsimages/train/Rachel/rachel (36).jpg\n",
            "friendsimages/train/Rachel/rachel (37).jpg\n",
            "friendsimages/train/Rachel/rachel (38).jpg\n",
            "friendsimages/train/Rachel/rachel (39).jpg\n",
            "friendsimages/train/Rachel/rachel (4).jpg\n",
            "friendsimages/train/Rachel/rachel (40).jpg\n",
            "friendsimages/train/Rachel/rachel (5).jpg\n",
            "friendsimages/train/Rachel/rachel (6).jpg\n",
            "friendsimages/train/Rachel/rachel (7).jpg\n",
            "friendsimages/train/Rachel/rachel (8).jpg\n",
            "friendsimages/train/Rachel/rachel (9).jpg\n",
            "friendsimages/train/Ross/\n",
            "friendsimages/train/Ross/49.png\n",
            "friendsimages/train/Ross/ross (1).jpeg\n",
            "friendsimages/train/Ross/ross (10).jpg\n",
            "friendsimages/train/Ross/ross (11).jpg\n",
            "friendsimages/train/Ross/ross (12).jpg\n",
            "friendsimages/train/Ross/ross (13).jpg\n",
            "friendsimages/train/Ross/ross (14).jpg\n",
            "friendsimages/train/Ross/ross (15).jpg\n",
            "friendsimages/train/Ross/ross (16).jpg\n",
            "friendsimages/train/Ross/ross (17).jpg\n",
            "friendsimages/train/Ross/ross (18).jpg\n",
            "friendsimages/train/Ross/ross (19).jpg\n",
            "friendsimages/train/Ross/ross (2).jpg\n",
            "friendsimages/train/Ross/ross (20).jpg\n",
            "friendsimages/train/Ross/ross (21).jpg\n",
            "friendsimages/train/Ross/ross (22).jpg\n",
            "friendsimages/train/Ross/ross (23).jpg\n",
            "friendsimages/train/Ross/ross (24).jpg\n",
            "friendsimages/train/Ross/ross (25).jpg\n",
            "friendsimages/train/Ross/ross (26).jpg\n",
            "friendsimages/train/Ross/ross (27).jpg\n",
            "friendsimages/train/Ross/ross (28).jpg\n",
            "friendsimages/train/Ross/ross (29).jpg\n",
            "friendsimages/train/Ross/ross (3).jpg\n",
            "friendsimages/train/Ross/ross (30).jpg\n",
            "friendsimages/train/Ross/ross (31).jpg\n",
            "friendsimages/train/Ross/ross (32).jpg\n",
            "friendsimages/train/Ross/ross (33).jpg\n",
            "friendsimages/train/Ross/ross (34).jpg\n",
            "friendsimages/train/Ross/ross (35).jpg\n",
            "friendsimages/train/Ross/ross (36).jpg\n",
            "friendsimages/train/Ross/ross (37).jpg\n",
            "friendsimages/train/Ross/ross (38).jpg\n",
            "friendsimages/train/Ross/ross (39).jpg\n",
            "friendsimages/train/Ross/ross (4).jpg\n",
            "friendsimages/train/Ross/ross (5).jpg\n",
            "friendsimages/train/Ross/ross (6).jpg\n",
            "friendsimages/train/Ross/ross (7).jpg\n",
            "friendsimages/train/Ross/ross (8).jpg\n",
            "friendsimages/train/Ross/ross (9).jpg\n",
            "friendsimages/valid/\n",
            "friendsimages/valid/Chandler/\n",
            "friendsimages/valid/Chandler/chandler (41).jpg\n",
            "friendsimages/valid/Chandler/chandler (42).jpg\n",
            "friendsimages/valid/Chandler/chandler (43).jpg\n",
            "friendsimages/valid/Chandler/chandler (44).jpg\n",
            "friendsimages/valid/Chandler/chandler (45).jpg\n",
            "friendsimages/valid/Joey/\n",
            "friendsimages/valid/Joey/joey (40).jpg\n",
            "friendsimages/valid/Joey/joey (41).jpg\n",
            "friendsimages/valid/Joey/joey (42).jpg\n",
            "friendsimages/valid/Joey/joey (43).jpg\n",
            "friendsimages/valid/Joey/joey (44).jpg\n",
            "friendsimages/valid/Monica/\n",
            "friendsimages/valid/Monica/monica (42).jpg\n",
            "friendsimages/valid/Monica/monica (43).jpg\n",
            "friendsimages/valid/Monica/monica (44).jpg\n",
            "friendsimages/valid/Monica/monica (45).jpg\n",
            "friendsimages/valid/Monica/monica (46).png\n",
            "friendsimages/valid/Phoebe/\n",
            "friendsimages/valid/Phoebe/phoebe (42).jpg\n",
            "friendsimages/valid/Phoebe/phoebe (43).jpg\n",
            "friendsimages/valid/Phoebe/phoebe (44).jpg\n",
            "friendsimages/valid/Phoebe/phoebe (45).jpg\n",
            "friendsimages/valid/Phoebe/phoebe (46).jpg\n",
            "friendsimages/valid/Rachel/\n",
            "friendsimages/valid/Rachel/rachel (41).jpg\n",
            "friendsimages/valid/Rachel/rachel (42).jpg\n",
            "friendsimages/valid/Rachel/rachel (43).jpg\n",
            "friendsimages/valid/Rachel/rachel (44).jpg\n",
            "friendsimages/valid/Rachel/rachel (45).jpg\n",
            "friendsimages/valid/Ross/\n",
            "friendsimages/valid/Ross/ross (40).jpg\n",
            "friendsimages/valid/Ross/ross (41).jpg\n",
            "friendsimages/valid/Ross/ross (42).jpg\n",
            "friendsimages/valid/Ross/ross (43).jpg\n",
            "friendsimages/valid/Ross/ross (44).jpg\n",
            "test  train  valid\n"
          ]
        }
      ]
    },
    {
      "cell_type": "markdown",
      "source": [
        "## Loading Data"
      ],
      "metadata": {
        "id": "2ExfeWlQk0sq"
      }
    },
    {
      "cell_type": "code",
      "source": [
        "train_path = \"../input/100-bird-species/285 birds/train\"\n",
        "test_path = \"../input/100-bird-species/285 birds/test\"\n",
        "validation_path = \"../input/100-bird-species/285 birds/valid\""
      ],
      "metadata": {
        "execution": {
          "iopub.status.busy": "2021-08-14T18:40:53.026681Z",
          "iopub.execute_input": "2021-08-14T18:40:53.027033Z",
          "iopub.status.idle": "2021-08-14T18:40:53.031369Z",
          "shell.execute_reply.started": "2021-08-14T18:40:53.027002Z",
          "shell.execute_reply": "2021-08-14T18:40:53.030534Z"
        },
        "trusted": true,
        "id": "nohKs7hKk0sq"
      },
      "outputs": [],
      "execution_count": null
    },
    {
      "cell_type": "markdown",
      "source": [
        "## Vısualization"
      ],
      "metadata": {
        "id": "t3YPSHPHk0sq"
      }
    },
    {
      "cell_type": "code",
      "source": [
        "img = load_img(train_path + \"/ANHINGA/001.jpg\")\n",
        "plt.imshow(img)\n",
        "plt.axis(\"off\")\n",
        "plt.title(\"Sample Anhinga Image\")\n",
        "plt.show()\n",
        "\n",
        "plt.figure()\n",
        "\n",
        "img = load_img(train_path + \"/BALD EAGLE/018.jpg\")\n",
        "plt.imshow(img)\n",
        "plt.axis(\"off\")\n",
        "plt.title(\"Sample Bald Eagle Image\")\n",
        "plt.show()"
      ],
      "metadata": {
        "execution": {
          "iopub.status.busy": "2021-08-14T18:40:56.663438Z",
          "iopub.execute_input": "2021-08-14T18:40:56.663915Z",
          "iopub.status.idle": "2021-08-14T18:40:56.934677Z",
          "shell.execute_reply.started": "2021-08-14T18:40:56.663885Z",
          "shell.execute_reply": "2021-08-14T18:40:56.933953Z"
        },
        "trusted": true,
        "id": "g9m4aWPRk0sr"
      },
      "outputs": [],
      "execution_count": null
    },
    {
      "cell_type": "code",
      "source": [
        "fig, axs = plt.subplots(2, 2, figsize=(8, 8))\n",
        "axs[0,0].imshow(load_img(train_path + \"/BARN OWL/018.jpg\"))\n",
        "axs[0,0].axis(\"off\")\n",
        "\n",
        "axs[0,1].imshow(load_img(train_path + \"/ALBATROSS/001.jpg\"))\n",
        "axs[0,1].axis(\"off\")\n",
        "\n",
        "axs[1,0].imshow(load_img(train_path + \"/CANARY/107.jpg\"))\n",
        "axs[1,0].axis(\"off\")\n",
        "\n",
        "axs[1,1].imshow(load_img(train_path + \"/CROW/100.jpg\"))\n",
        "axs[1,1].axis(\"off\")\n",
        "\n",
        "plt.show()"
      ],
      "metadata": {
        "execution": {
          "iopub.status.busy": "2021-08-14T18:41:00.77237Z",
          "iopub.execute_input": "2021-08-14T18:41:00.772907Z",
          "iopub.status.idle": "2021-08-14T18:41:01.15417Z",
          "shell.execute_reply.started": "2021-08-14T18:41:00.772861Z",
          "shell.execute_reply": "2021-08-14T18:41:01.153453Z"
        },
        "trusted": true,
        "id": "svGuoyV5k0sr"
      },
      "outputs": [],
      "execution_count": null
    },
    {
      "cell_type": "markdown",
      "source": [
        "## Data Processing"
      ],
      "metadata": {
        "id": "pm8ETRFbk0sr"
      }
    },
    {
      "cell_type": "code",
      "source": [
        "className = glob(train_path + \"/*\")\n",
        "NumberofClass = len(className)\n",
        "print(\"NumberofClass:\", NumberofClass)"
      ],
      "metadata": {
        "execution": {
          "iopub.status.busy": "2021-08-14T18:41:05.425565Z",
          "iopub.execute_input": "2021-08-14T18:41:05.426145Z",
          "iopub.status.idle": "2021-08-14T18:41:05.478484Z",
          "shell.execute_reply.started": "2021-08-14T18:41:05.426083Z",
          "shell.execute_reply": "2021-08-14T18:41:05.477708Z"
        },
        "trusted": true,
        "id": "VKsV_7oak0sr"
      },
      "outputs": [],
      "execution_count": null
    },
    {
      "cell_type": "code",
      "source": [
        "train_datagen = ImageDataGenerator(rescale=1/255)\n",
        "validation_datagen=ImageDataGenerator(rescale=1/255)\n",
        "test_datagen=ImageDataGenerator(rescale=1/255)"
      ],
      "metadata": {
        "execution": {
          "iopub.status.busy": "2021-08-14T18:41:06.618998Z",
          "iopub.execute_input": "2021-08-14T18:41:06.619561Z",
          "iopub.status.idle": "2021-08-14T18:41:06.624784Z",
          "shell.execute_reply.started": "2021-08-14T18:41:06.619516Z",
          "shell.execute_reply": "2021-08-14T18:41:06.623715Z"
        },
        "trusted": true,
        "id": "1X5-dv6Wk0ss"
      },
      "outputs": [],
      "execution_count": null
    },
    {
      "cell_type": "markdown",
      "source": [
        "## Data Augmentation"
      ],
      "metadata": {
        "id": "0aZ-xKXJk0ss"
      }
    },
    {
      "cell_type": "code",
      "source": [
        "batch_size = 256\n",
        "train_datagen = ImageDataGenerator(rescale=1/255,\n",
        "                  shear_range=0.3,\n",
        "                  horizontal_flip=True,\n",
        "                  zoom_range=0.3\n",
        "                  )\n",
        "val_datagen = ImageDataGenerator(rescale=1/255)\n",
        "\n",
        "train_generator = train_datagen.flow_from_directory(\n",
        "                train_path,\n",
        "                target_size=(224,224),\n",
        "                batch_size=batch_size,\n",
        "                color_mode=\"rgb\",\n",
        "                class_mode=\"categorical\"\n",
        "                )\n",
        "\n",
        "val_generator = val_datagen.flow_from_directory(\n",
        "                validation_path,\n",
        "                target_size=(224,224),\n",
        "                batch_size=batch_size,\n",
        "                color_mode=\"rgb\",\n",
        "                class_mode=\"categorical\"\n",
        "                )"
      ],
      "metadata": {
        "execution": {
          "iopub.status.busy": "2021-08-14T18:54:08.644711Z",
          "iopub.execute_input": "2021-08-14T18:54:08.645095Z",
          "iopub.status.idle": "2021-08-14T18:54:11.391729Z",
          "shell.execute_reply.started": "2021-08-14T18:54:08.645059Z",
          "shell.execute_reply": "2021-08-14T18:54:11.390592Z"
        },
        "trusted": true,
        "id": "ixYp2fVKk0ss"
      },
      "outputs": [],
      "execution_count": null
    },
    {
      "cell_type": "markdown",
      "source": [
        "## InceptionV3 Model"
      ],
      "metadata": {
        "id": "dlK7MZXXk0ss"
      }
    },
    {
      "cell_type": "code",
      "source": [
        "IncV3 = InceptionV3(include_top = False, weights = \"imagenet\",input_shape = (224,224,3))"
      ],
      "metadata": {
        "execution": {
          "iopub.status.busy": "2021-08-14T18:54:22.37643Z",
          "iopub.execute_input": "2021-08-14T18:54:22.376768Z",
          "iopub.status.idle": "2021-08-14T18:54:24.921128Z",
          "shell.execute_reply.started": "2021-08-14T18:54:22.37674Z",
          "shell.execute_reply": "2021-08-14T18:54:24.920186Z"
        },
        "trusted": true,
        "id": "M5QEyFlck0ss"
      },
      "outputs": [],
      "execution_count": null
    },
    {
      "cell_type": "code",
      "source": [
        "model = Sequential()\n",
        "\n",
        "model.add(IncV3)\n",
        "\n",
        "for layer in model.layers:\n",
        "    layer.trainable = False\n",
        "\n",
        "\n",
        "model.add(Flatten())\n",
        "\n",
        "model.add(Dense(units = 2048, activation = \"relu\"))\n",
        "model.add(Dropout(0.5))\n",
        "model.add(Dense(units = NumberofClass, activation = \"softmax\"))\n"
      ],
      "metadata": {
        "execution": {
          "iopub.status.busy": "2021-08-14T18:54:24.92279Z",
          "iopub.execute_input": "2021-08-14T18:54:24.923066Z",
          "iopub.status.idle": "2021-08-14T18:54:26.37259Z",
          "shell.execute_reply.started": "2021-08-14T18:54:24.92304Z",
          "shell.execute_reply": "2021-08-14T18:54:26.371672Z"
        },
        "trusted": true,
        "id": "GWIDhEThk0ss"
      },
      "outputs": [],
      "execution_count": null
    },
    {
      "cell_type": "markdown",
      "source": [
        "## Compiling the Model"
      ],
      "metadata": {
        "id": "lTIG_ZX9k0st"
      }
    },
    {
      "cell_type": "code",
      "source": [
        "model.compile(optimizer = \"adam\", loss = \"categorical_crossentropy\", metrics = [\"accuracy\"])"
      ],
      "metadata": {
        "execution": {
          "iopub.status.busy": "2021-08-14T18:54:26.374032Z",
          "iopub.execute_input": "2021-08-14T18:54:26.374335Z",
          "iopub.status.idle": "2021-08-14T18:54:26.39181Z",
          "shell.execute_reply.started": "2021-08-14T18:54:26.374306Z",
          "shell.execute_reply": "2021-08-14T18:54:26.390646Z"
        },
        "trusted": true,
        "id": "51f3xcG8k0st"
      },
      "outputs": [],
      "execution_count": null
    },
    {
      "cell_type": "markdown",
      "source": [
        "## Fitting"
      ],
      "metadata": {
        "id": "s4-zT0KMk0st"
      }
    },
    {
      "cell_type": "code",
      "source": [
        "history = model.fit(train_generator,\n",
        "                    validation_data = val_generator,\n",
        "                    epochs = 5,\n",
        "                    batch_size = batch_size)\n"
      ],
      "metadata": {
        "execution": {
          "iopub.status.busy": "2021-08-14T18:55:12.060844Z",
          "iopub.execute_input": "2021-08-14T18:55:12.061231Z",
          "iopub.status.idle": "2021-08-14T18:59:48.418936Z",
          "shell.execute_reply.started": "2021-08-14T18:55:12.0612Z",
          "shell.execute_reply": "2021-08-14T18:59:48.417078Z"
        },
        "trusted": true,
        "id": "daUNLl9jk0st"
      },
      "outputs": [],
      "execution_count": null
    },
    {
      "cell_type": "markdown",
      "source": [
        "## Evaluating the Model"
      ],
      "metadata": {
        "id": "RYSOaJx-k0st"
      }
    },
    {
      "cell_type": "code",
      "source": [
        "plt.figure(figsize=(8,8))\n",
        "plt.plot(history.history['loss'], color='b', label=\"Training loss\")\n",
        "plt.plot(history.history['val_loss'], color='r', label=\"Validation loss\")\n",
        "plt.legend()\n",
        "plt.show()\n",
        "\n",
        "plt.figure()\n",
        "\n",
        "plt.figure(figsize=(8,8))\n",
        "plt.plot(history.history['accuracy'], color='b', label=\"Training accuracy\")\n",
        "plt.plot(history.history['val_accuracy'], color='r',label=\"Validation accuracy\")\n",
        "plt.legend()\n",
        "plt.show()"
      ],
      "metadata": {
        "id": "TJ3zbVfck0st"
      },
      "outputs": [],
      "execution_count": null
    }
  ]
}
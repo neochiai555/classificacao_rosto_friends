{
  "metadata": {
    "kernelspec": {
      "language": "python",
      "display_name": "Python 3",
      "name": "python3"
    },
    "language_info": {
      "pygments_lexer": "ipython3",
      "nbconvert_exporter": "python",
      "version": "3.6.4",
      "file_extension": ".py",
      "codemirror_mode": {
        "name": "ipython",
        "version": 3
      },
      "name": "python",
      "mimetype": "text/x-python"
    },
    "kaggle": {
      "accelerator": "none",
      "dataSources": [
        {
          "sourceId": 2509361,
          "sourceType": "datasetVersion",
          "datasetId": 534640
        }
      ],
      "dockerImageVersionId": 30120,
      "isInternetEnabled": false,
      "language": "python",
      "sourceType": "notebook",
      "isGpuEnabled": false
    },
    "colab": {
      "provenance": []
    }
  },
  "nbformat_minor": 0,
  "nbformat": 4,
  "cells": [
    {
      "cell_type": "markdown",
      "source": [
        "# Birds Image Classification with InceptionV3"
      ],
      "metadata": {
        "id": "4KN2VQkHk0sl"
      }
    },
    {
      "cell_type": "markdown",
      "source": [
        "This notebook consists of the following topics:\n",
        "* About InceptionV3\n",
        "* About Dataset\n",
        "* Import Libraries\n",
        "* Loading Data\n",
        "* Visualization\n",
        "* Data Processing\n",
        "* Data Augmentation\n",
        "* InceptionV3 Model\n",
        "* Compiling the Model\n",
        "* Fitting\n",
        "* Evaluating the Model"
      ],
      "metadata": {
        "id": "DYfBHD2rk0sn"
      }
    },
    {
      "cell_type": "markdown",
      "source": [
        "## About InceptionV3"
      ],
      "metadata": {
        "id": "Fqn4skFjk0sn"
      }
    },
    {
      "cell_type": "markdown",
      "source": [
        "InceptionV3 is a convolutional neural network for assisting in image analysis and object detection, and got its start as a module for Googlenet. It is the third edition of Google's Inception Convolutional Neural Network, originally introduced during the ImageNet Recognition Challenge. Just as ImageNet can be thought of as a database of classified visual objects, Inception helps classification of objects in the world of computer vision."
      ],
      "metadata": {
        "id": "JxxYPUW7k0so"
      }
    },
    {
      "cell_type": "markdown",
      "source": [
        "![](http://paperswithcode.com/media/methods/inceptionv3onc--oview_vjAbOfw.png![image.png](attachment:b909ba6d-0ceb-4c56-8b7d-43ccbecbce19.png)![image.png](attachment:7ef18d29-4a33-4384-8649-21bbfb15176c.png)![image.png](attachment:23823979-57e0-4392-943d-929cffd13758.png))"
      ],
      "metadata": {
        "id": "vbIxk2VVk0so"
      }
    },
    {
      "cell_type": "markdown",
      "source": [
        "## About Dataset"
      ],
      "metadata": {
        "id": "VTpB72uLk0so"
      }
    },
    {
      "cell_type": "markdown",
      "source": [
        "The data set consists of 40930 training images, 1425 test images, 1425 validation images and 125 different classes. Images are in 224x224x3 format."
      ],
      "metadata": {
        "id": "uVxd-e9Vk0so"
      }
    },
    {
      "cell_type": "markdown",
      "source": [
        "## Import Libraries"
      ],
      "metadata": {
        "id": "l2JnMUITk0sp"
      }
    },
    {
      "cell_type": "code",
      "source": [
        "import numpy as np\n",
        "import pandas as pd\n",
        "import matplotlib.pyplot as plt\n",
        "import seaborn as sns\n",
        "import tensorflow as tf\n",
        "import keras\n",
        "from keras.models import Sequential\n",
        "from keras.preprocessing.image import ImageDataGenerator, load_img, img_to_array\n",
        "from keras.layers import Dense, Flatten, BatchNormalization, Dropout\n",
        "from keras.applications import InceptionV3\n",
        "from glob import glob"
      ],
      "metadata": {
        "execution": {
          "iopub.status.busy": "2021-08-14T18:40:43.657921Z",
          "iopub.execute_input": "2021-08-14T18:40:43.658442Z",
          "iopub.status.idle": "2021-08-14T18:40:50.514218Z",
          "shell.execute_reply.started": "2021-08-14T18:40:43.658341Z",
          "shell.execute_reply": "2021-08-14T18:40:50.513276Z"
        },
        "trusted": true,
        "id": "d_jz8OoCk0sp"
      },
      "outputs": [],
      "execution_count": null
    },
    {
      "cell_type": "code",
      "source": [
        "!rm -rf friendsimages/\n",
        "!wget"
      ],
      "metadata": {
        "id": "-Hvq65ylnXJK"
      },
      "execution_count": null,
      "outputs": []
    },
    {
      "cell_type": "markdown",
      "source": [
        "## Loading Data"
      ],
      "metadata": {
        "id": "2ExfeWlQk0sq"
      }
    },
    {
      "cell_type": "code",
      "source": [
        "train_path = \"../input/100-bird-species/285 birds/train\"\n",
        "test_path = \"../input/100-bird-species/285 birds/test\"\n",
        "validation_path = \"../input/100-bird-species/285 birds/valid\""
      ],
      "metadata": {
        "execution": {
          "iopub.status.busy": "2021-08-14T18:40:53.026681Z",
          "iopub.execute_input": "2021-08-14T18:40:53.027033Z",
          "iopub.status.idle": "2021-08-14T18:40:53.031369Z",
          "shell.execute_reply.started": "2021-08-14T18:40:53.027002Z",
          "shell.execute_reply": "2021-08-14T18:40:53.030534Z"
        },
        "trusted": true,
        "id": "nohKs7hKk0sq"
      },
      "outputs": [],
      "execution_count": null
    },
    {
      "cell_type": "markdown",
      "source": [
        "## Vısualization"
      ],
      "metadata": {
        "id": "t3YPSHPHk0sq"
      }
    },
    {
      "cell_type": "code",
      "source": [
        "img = load_img(train_path + \"/ANHINGA/001.jpg\")\n",
        "plt.imshow(img)\n",
        "plt.axis(\"off\")\n",
        "plt.title(\"Sample Anhinga Image\")\n",
        "plt.show()\n",
        "\n",
        "plt.figure()\n",
        "\n",
        "img = load_img(train_path + \"/BALD EAGLE/018.jpg\")\n",
        "plt.imshow(img)\n",
        "plt.axis(\"off\")\n",
        "plt.title(\"Sample Bald Eagle Image\")\n",
        "plt.show()"
      ],
      "metadata": {
        "execution": {
          "iopub.status.busy": "2021-08-14T18:40:56.663438Z",
          "iopub.execute_input": "2021-08-14T18:40:56.663915Z",
          "iopub.status.idle": "2021-08-14T18:40:56.934677Z",
          "shell.execute_reply.started": "2021-08-14T18:40:56.663885Z",
          "shell.execute_reply": "2021-08-14T18:40:56.933953Z"
        },
        "trusted": true,
        "id": "g9m4aWPRk0sr"
      },
      "outputs": [],
      "execution_count": null
    },
    {
      "cell_type": "code",
      "source": [
        "fig, axs = plt.subplots(2, 2, figsize=(8, 8))\n",
        "axs[0,0].imshow(load_img(train_path + \"/BARN OWL/018.jpg\"))\n",
        "axs[0,0].axis(\"off\")\n",
        "\n",
        "axs[0,1].imshow(load_img(train_path + \"/ALBATROSS/001.jpg\"))\n",
        "axs[0,1].axis(\"off\")\n",
        "\n",
        "axs[1,0].imshow(load_img(train_path + \"/CANARY/107.jpg\"))\n",
        "axs[1,0].axis(\"off\")\n",
        "\n",
        "axs[1,1].imshow(load_img(train_path + \"/CROW/100.jpg\"))\n",
        "axs[1,1].axis(\"off\")\n",
        "\n",
        "plt.show()"
      ],
      "metadata": {
        "execution": {
          "iopub.status.busy": "2021-08-14T18:41:00.77237Z",
          "iopub.execute_input": "2021-08-14T18:41:00.772907Z",
          "iopub.status.idle": "2021-08-14T18:41:01.15417Z",
          "shell.execute_reply.started": "2021-08-14T18:41:00.772861Z",
          "shell.execute_reply": "2021-08-14T18:41:01.153453Z"
        },
        "trusted": true,
        "id": "svGuoyV5k0sr"
      },
      "outputs": [],
      "execution_count": null
    },
    {
      "cell_type": "markdown",
      "source": [
        "## Data Processing"
      ],
      "metadata": {
        "id": "pm8ETRFbk0sr"
      }
    },
    {
      "cell_type": "code",
      "source": [
        "className = glob(train_path + \"/*\")\n",
        "NumberofClass = len(className)\n",
        "print(\"NumberofClass:\", NumberofClass)"
      ],
      "metadata": {
        "execution": {
          "iopub.status.busy": "2021-08-14T18:41:05.425565Z",
          "iopub.execute_input": "2021-08-14T18:41:05.426145Z",
          "iopub.status.idle": "2021-08-14T18:41:05.478484Z",
          "shell.execute_reply.started": "2021-08-14T18:41:05.426083Z",
          "shell.execute_reply": "2021-08-14T18:41:05.477708Z"
        },
        "trusted": true,
        "id": "VKsV_7oak0sr"
      },
      "outputs": [],
      "execution_count": null
    },
    {
      "cell_type": "code",
      "source": [
        "train_datagen = ImageDataGenerator(rescale=1/255)\n",
        "validation_datagen=ImageDataGenerator(rescale=1/255)\n",
        "test_datagen=ImageDataGenerator(rescale=1/255)"
      ],
      "metadata": {
        "execution": {
          "iopub.status.busy": "2021-08-14T18:41:06.618998Z",
          "iopub.execute_input": "2021-08-14T18:41:06.619561Z",
          "iopub.status.idle": "2021-08-14T18:41:06.624784Z",
          "shell.execute_reply.started": "2021-08-14T18:41:06.619516Z",
          "shell.execute_reply": "2021-08-14T18:41:06.623715Z"
        },
        "trusted": true,
        "id": "1X5-dv6Wk0ss"
      },
      "outputs": [],
      "execution_count": null
    },
    {
      "cell_type": "markdown",
      "source": [
        "## Data Augmentation"
      ],
      "metadata": {
        "id": "0aZ-xKXJk0ss"
      }
    },
    {
      "cell_type": "code",
      "source": [
        "batch_size = 256\n",
        "train_datagen = ImageDataGenerator(rescale=1/255,\n",
        "                  shear_range=0.3,\n",
        "                  horizontal_flip=True,\n",
        "                  zoom_range=0.3\n",
        "                  )\n",
        "val_datagen = ImageDataGenerator(rescale=1/255)\n",
        "\n",
        "train_generator = train_datagen.flow_from_directory(\n",
        "                train_path,\n",
        "                target_size=(224,224),\n",
        "                batch_size=batch_size,\n",
        "                color_mode=\"rgb\",\n",
        "                class_mode=\"categorical\"\n",
        "                )\n",
        "\n",
        "val_generator = val_datagen.flow_from_directory(\n",
        "                validation_path,\n",
        "                target_size=(224,224),\n",
        "                batch_size=batch_size,\n",
        "                color_mode=\"rgb\",\n",
        "                class_mode=\"categorical\"\n",
        "                )"
      ],
      "metadata": {
        "execution": {
          "iopub.status.busy": "2021-08-14T18:54:08.644711Z",
          "iopub.execute_input": "2021-08-14T18:54:08.645095Z",
          "iopub.status.idle": "2021-08-14T18:54:11.391729Z",
          "shell.execute_reply.started": "2021-08-14T18:54:08.645059Z",
          "shell.execute_reply": "2021-08-14T18:54:11.390592Z"
        },
        "trusted": true,
        "id": "ixYp2fVKk0ss"
      },
      "outputs": [],
      "execution_count": null
    },
    {
      "cell_type": "markdown",
      "source": [
        "## InceptionV3 Model"
      ],
      "metadata": {
        "id": "dlK7MZXXk0ss"
      }
    },
    {
      "cell_type": "code",
      "source": [
        "IncV3 = InceptionV3(include_top = False, weights = \"imagenet\",input_shape = (224,224,3))"
      ],
      "metadata": {
        "execution": {
          "iopub.status.busy": "2021-08-14T18:54:22.37643Z",
          "iopub.execute_input": "2021-08-14T18:54:22.376768Z",
          "iopub.status.idle": "2021-08-14T18:54:24.921128Z",
          "shell.execute_reply.started": "2021-08-14T18:54:22.37674Z",
          "shell.execute_reply": "2021-08-14T18:54:24.920186Z"
        },
        "trusted": true,
        "id": "M5QEyFlck0ss"
      },
      "outputs": [],
      "execution_count": null
    },
    {
      "cell_type": "code",
      "source": [
        "model = Sequential()\n",
        "\n",
        "model.add(IncV3)\n",
        "\n",
        "for layer in model.layers:\n",
        "    layer.trainable = False\n",
        "\n",
        "\n",
        "model.add(Flatten())\n",
        "\n",
        "model.add(Dense(units = 2048, activation = \"relu\"))\n",
        "model.add(Dropout(0.5))\n",
        "model.add(Dense(units = NumberofClass, activation = \"softmax\"))\n"
      ],
      "metadata": {
        "execution": {
          "iopub.status.busy": "2021-08-14T18:54:24.92279Z",
          "iopub.execute_input": "2021-08-14T18:54:24.923066Z",
          "iopub.status.idle": "2021-08-14T18:54:26.37259Z",
          "shell.execute_reply.started": "2021-08-14T18:54:24.92304Z",
          "shell.execute_reply": "2021-08-14T18:54:26.371672Z"
        },
        "trusted": true,
        "id": "GWIDhEThk0ss"
      },
      "outputs": [],
      "execution_count": null
    },
    {
      "cell_type": "markdown",
      "source": [
        "## Compiling the Model"
      ],
      "metadata": {
        "id": "lTIG_ZX9k0st"
      }
    },
    {
      "cell_type": "code",
      "source": [
        "model.compile(optimizer = \"adam\", loss = \"categorical_crossentropy\", metrics = [\"accuracy\"])"
      ],
      "metadata": {
        "execution": {
          "iopub.status.busy": "2021-08-14T18:54:26.374032Z",
          "iopub.execute_input": "2021-08-14T18:54:26.374335Z",
          "iopub.status.idle": "2021-08-14T18:54:26.39181Z",
          "shell.execute_reply.started": "2021-08-14T18:54:26.374306Z",
          "shell.execute_reply": "2021-08-14T18:54:26.390646Z"
        },
        "trusted": true,
        "id": "51f3xcG8k0st"
      },
      "outputs": [],
      "execution_count": null
    },
    {
      "cell_type": "markdown",
      "source": [
        "## Fitting"
      ],
      "metadata": {
        "id": "s4-zT0KMk0st"
      }
    },
    {
      "cell_type": "code",
      "source": [
        "history = model.fit(train_generator,\n",
        "                    validation_data = val_generator,\n",
        "                    epochs = 5,\n",
        "                    batch_size = batch_size)\n",
        ""
      ],
      "metadata": {
        "execution": {
          "iopub.status.busy": "2021-08-14T18:55:12.060844Z",
          "iopub.execute_input": "2021-08-14T18:55:12.061231Z",
          "iopub.status.idle": "2021-08-14T18:59:48.418936Z",
          "shell.execute_reply.started": "2021-08-14T18:55:12.0612Z",
          "shell.execute_reply": "2021-08-14T18:59:48.417078Z"
        },
        "trusted": true,
        "id": "daUNLl9jk0st"
      },
      "outputs": [],
      "execution_count": null
    },
    {
      "cell_type": "markdown",
      "source": [
        "## Evaluating the Model"
      ],
      "metadata": {
        "id": "RYSOaJx-k0st"
      }
    },
    {
      "cell_type": "code",
      "source": [
        "plt.figure(figsize=(8,8))\n",
        "plt.plot(history.history['loss'], color='b', label=\"Training loss\")\n",
        "plt.plot(history.history['val_loss'], color='r', label=\"Validation loss\")\n",
        "plt.legend()\n",
        "plt.show()\n",
        "\n",
        "plt.figure()\n",
        "\n",
        "plt.figure(figsize=(8,8))\n",
        "plt.plot(history.history['accuracy'], color='b', label=\"Training accuracy\")\n",
        "plt.plot(history.history['val_accuracy'], color='r',label=\"Validation accuracy\")\n",
        "plt.legend()\n",
        "plt.show()"
      ],
      "metadata": {
        "id": "TJ3zbVfck0st"
      },
      "outputs": [],
      "execution_count": null
    }
  ]
}